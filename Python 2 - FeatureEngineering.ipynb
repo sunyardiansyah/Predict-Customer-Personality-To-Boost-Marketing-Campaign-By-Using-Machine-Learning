{
 "cells": [
  {
   "cell_type": "code",
   "execution_count": 1,
   "id": "5eff9e90-ff73-417f-899b-504b4375535a",
   "metadata": {},
   "outputs": [],
   "source": [
    "import numpy as np\n",
    "import pandas as pd\n",
    "import matplotlib.pyplot as plt\n",
    "import seaborn as sns"
   ]
  },
  {
   "cell_type": "code",
   "execution_count": 2,
   "id": "7372f28d-327e-4a64-8b6b-c65286f31e47",
   "metadata": {},
   "outputs": [],
   "source": [
    "from matplotlib import rcParams\n",
    "\n",
    "rcParams['figure.figsize'] = 12, 4\n",
    "rcParams['lines.linewidth'] = 3\n",
    "rcParams['xtick.labelsize'] = 'x-large'\n",
    "rcParams['ytick.labelsize'] = 'x-large'"
   ]
  },
  {
   "cell_type": "code",
   "execution_count": 3,
   "id": "850e7221-8ad7-4a00-9e9a-c13ff5ace1f8",
   "metadata": {},
   "outputs": [],
   "source": [
    "df = pd.read_csv('marketing_campaign_data.csv')"
   ]
  },
  {
   "cell_type": "code",
   "execution_count": 4,
   "id": "5a502a41-998c-46ef-a6cd-5a06ecfe2939",
   "metadata": {},
   "outputs": [],
   "source": [
    "pd.set_option('display.max_columns', None)"
   ]
  },
  {
   "cell_type": "code",
   "execution_count": 5,
   "id": "c22c3bee-cb54-46e9-8aba-238cb3407909",
   "metadata": {},
   "outputs": [
    {
     "data": {
      "text/html": [
       "<div>\n",
       "<style scoped>\n",
       "    .dataframe tbody tr th:only-of-type {\n",
       "        vertical-align: middle;\n",
       "    }\n",
       "\n",
       "    .dataframe tbody tr th {\n",
       "        vertical-align: top;\n",
       "    }\n",
       "\n",
       "    .dataframe thead th {\n",
       "        text-align: right;\n",
       "    }\n",
       "</style>\n",
       "<table border=\"1\" class=\"dataframe\">\n",
       "  <thead>\n",
       "    <tr style=\"text-align: right;\">\n",
       "      <th></th>\n",
       "      <th>Unnamed: 0</th>\n",
       "      <th>ID</th>\n",
       "      <th>Year_Birth</th>\n",
       "      <th>Education</th>\n",
       "      <th>Marital_Status</th>\n",
       "      <th>Income</th>\n",
       "      <th>Kidhome</th>\n",
       "      <th>Teenhome</th>\n",
       "      <th>Dt_Customer</th>\n",
       "      <th>Recency</th>\n",
       "      <th>MntCoke</th>\n",
       "      <th>MntFruits</th>\n",
       "      <th>MntMeatProducts</th>\n",
       "      <th>MntFishProducts</th>\n",
       "      <th>MntSweetProducts</th>\n",
       "      <th>MntGoldProds</th>\n",
       "      <th>NumDealsPurchases</th>\n",
       "      <th>NumWebPurchases</th>\n",
       "      <th>NumCatalogPurchases</th>\n",
       "      <th>NumStorePurchases</th>\n",
       "      <th>NumWebVisitsMonth</th>\n",
       "      <th>AcceptedCmp3</th>\n",
       "      <th>AcceptedCmp4</th>\n",
       "      <th>AcceptedCmp5</th>\n",
       "      <th>AcceptedCmp1</th>\n",
       "      <th>AcceptedCmp2</th>\n",
       "      <th>Complain</th>\n",
       "      <th>Z_CostContact</th>\n",
       "      <th>Z_Revenue</th>\n",
       "      <th>Response</th>\n",
       "    </tr>\n",
       "  </thead>\n",
       "  <tbody>\n",
       "    <tr>\n",
       "      <th>1814</th>\n",
       "      <td>1814</td>\n",
       "      <td>10177</td>\n",
       "      <td>1954</td>\n",
       "      <td>S1</td>\n",
       "      <td>Cerai</td>\n",
       "      <td>72071000.0</td>\n",
       "      <td>0</td>\n",
       "      <td>1</td>\n",
       "      <td>14-02-2013</td>\n",
       "      <td>4</td>\n",
       "      <td>531000</td>\n",
       "      <td>69000</td>\n",
       "      <td>300000</td>\n",
       "      <td>150000</td>\n",
       "      <td>138000</td>\n",
       "      <td>150000</td>\n",
       "      <td>3</td>\n",
       "      <td>5</td>\n",
       "      <td>4</td>\n",
       "      <td>8</td>\n",
       "      <td>2</td>\n",
       "      <td>0</td>\n",
       "      <td>0</td>\n",
       "      <td>0</td>\n",
       "      <td>0</td>\n",
       "      <td>0</td>\n",
       "      <td>0</td>\n",
       "      <td>3</td>\n",
       "      <td>11</td>\n",
       "      <td>0</td>\n",
       "    </tr>\n",
       "    <tr>\n",
       "      <th>862</th>\n",
       "      <td>862</td>\n",
       "      <td>9553</td>\n",
       "      <td>1987</td>\n",
       "      <td>S1</td>\n",
       "      <td>Menikah</td>\n",
       "      <td>7500000.0</td>\n",
       "      <td>0</td>\n",
       "      <td>0</td>\n",
       "      <td>09-01-2013</td>\n",
       "      <td>94</td>\n",
       "      <td>0</td>\n",
       "      <td>2000</td>\n",
       "      <td>3000</td>\n",
       "      <td>4000</td>\n",
       "      <td>1000</td>\n",
       "      <td>5000</td>\n",
       "      <td>1</td>\n",
       "      <td>0</td>\n",
       "      <td>0</td>\n",
       "      <td>3</td>\n",
       "      <td>6</td>\n",
       "      <td>0</td>\n",
       "      <td>0</td>\n",
       "      <td>0</td>\n",
       "      <td>0</td>\n",
       "      <td>0</td>\n",
       "      <td>0</td>\n",
       "      <td>3</td>\n",
       "      <td>11</td>\n",
       "      <td>0</td>\n",
       "    </tr>\n",
       "    <tr>\n",
       "      <th>1946</th>\n",
       "      <td>1946</td>\n",
       "      <td>10676</td>\n",
       "      <td>1982</td>\n",
       "      <td>S1</td>\n",
       "      <td>Menikah</td>\n",
       "      <td>63211000.0</td>\n",
       "      <td>0</td>\n",
       "      <td>0</td>\n",
       "      <td>02-11-2012</td>\n",
       "      <td>3</td>\n",
       "      <td>145000</td>\n",
       "      <td>193000</td>\n",
       "      <td>459000</td>\n",
       "      <td>205000</td>\n",
       "      <td>26000</td>\n",
       "      <td>145000</td>\n",
       "      <td>2</td>\n",
       "      <td>3</td>\n",
       "      <td>8</td>\n",
       "      <td>7</td>\n",
       "      <td>2</td>\n",
       "      <td>0</td>\n",
       "      <td>0</td>\n",
       "      <td>0</td>\n",
       "      <td>0</td>\n",
       "      <td>0</td>\n",
       "      <td>0</td>\n",
       "      <td>3</td>\n",
       "      <td>11</td>\n",
       "      <td>1</td>\n",
       "    </tr>\n",
       "    <tr>\n",
       "      <th>136</th>\n",
       "      <td>136</td>\n",
       "      <td>5342</td>\n",
       "      <td>1976</td>\n",
       "      <td>SMA</td>\n",
       "      <td>Cerai</td>\n",
       "      <td>9548000.0</td>\n",
       "      <td>1</td>\n",
       "      <td>0</td>\n",
       "      <td>08-08-2012</td>\n",
       "      <td>31</td>\n",
       "      <td>0</td>\n",
       "      <td>1000</td>\n",
       "      <td>3000</td>\n",
       "      <td>10000</td>\n",
       "      <td>6000</td>\n",
       "      <td>9000</td>\n",
       "      <td>2</td>\n",
       "      <td>1</td>\n",
       "      <td>0</td>\n",
       "      <td>3</td>\n",
       "      <td>8</td>\n",
       "      <td>0</td>\n",
       "      <td>0</td>\n",
       "      <td>0</td>\n",
       "      <td>0</td>\n",
       "      <td>0</td>\n",
       "      <td>0</td>\n",
       "      <td>3</td>\n",
       "      <td>11</td>\n",
       "      <td>0</td>\n",
       "    </tr>\n",
       "    <tr>\n",
       "      <th>446</th>\n",
       "      <td>446</td>\n",
       "      <td>5954</td>\n",
       "      <td>1972</td>\n",
       "      <td>S2</td>\n",
       "      <td>Cerai</td>\n",
       "      <td>42618000.0</td>\n",
       "      <td>1</td>\n",
       "      <td>0</td>\n",
       "      <td>09-10-2013</td>\n",
       "      <td>92</td>\n",
       "      <td>76000</td>\n",
       "      <td>14000</td>\n",
       "      <td>74000</td>\n",
       "      <td>13000</td>\n",
       "      <td>5000</td>\n",
       "      <td>10000</td>\n",
       "      <td>2</td>\n",
       "      <td>5</td>\n",
       "      <td>0</td>\n",
       "      <td>4</td>\n",
       "      <td>8</td>\n",
       "      <td>0</td>\n",
       "      <td>0</td>\n",
       "      <td>0</td>\n",
       "      <td>0</td>\n",
       "      <td>0</td>\n",
       "      <td>0</td>\n",
       "      <td>3</td>\n",
       "      <td>11</td>\n",
       "      <td>0</td>\n",
       "    </tr>\n",
       "  </tbody>\n",
       "</table>\n",
       "</div>"
      ],
      "text/plain": [
       "      Unnamed: 0     ID  Year_Birth Education Marital_Status      Income  \\\n",
       "1814        1814  10177        1954        S1          Cerai  72071000.0   \n",
       "862          862   9553        1987        S1        Menikah   7500000.0   \n",
       "1946        1946  10676        1982        S1        Menikah  63211000.0   \n",
       "136          136   5342        1976       SMA          Cerai   9548000.0   \n",
       "446          446   5954        1972        S2          Cerai  42618000.0   \n",
       "\n",
       "      Kidhome  Teenhome Dt_Customer  Recency  MntCoke  MntFruits  \\\n",
       "1814        0         1  14-02-2013        4   531000      69000   \n",
       "862         0         0  09-01-2013       94        0       2000   \n",
       "1946        0         0  02-11-2012        3   145000     193000   \n",
       "136         1         0  08-08-2012       31        0       1000   \n",
       "446         1         0  09-10-2013       92    76000      14000   \n",
       "\n",
       "      MntMeatProducts  MntFishProducts  MntSweetProducts  MntGoldProds  \\\n",
       "1814           300000           150000            138000        150000   \n",
       "862              3000             4000              1000          5000   \n",
       "1946           459000           205000             26000        145000   \n",
       "136              3000            10000              6000          9000   \n",
       "446             74000            13000              5000         10000   \n",
       "\n",
       "      NumDealsPurchases  NumWebPurchases  NumCatalogPurchases  \\\n",
       "1814                  3                5                    4   \n",
       "862                   1                0                    0   \n",
       "1946                  2                3                    8   \n",
       "136                   2                1                    0   \n",
       "446                   2                5                    0   \n",
       "\n",
       "      NumStorePurchases  NumWebVisitsMonth  AcceptedCmp3  AcceptedCmp4  \\\n",
       "1814                  8                  2             0             0   \n",
       "862                   3                  6             0             0   \n",
       "1946                  7                  2             0             0   \n",
       "136                   3                  8             0             0   \n",
       "446                   4                  8             0             0   \n",
       "\n",
       "      AcceptedCmp5  AcceptedCmp1  AcceptedCmp2  Complain  Z_CostContact  \\\n",
       "1814             0             0             0         0              3   \n",
       "862              0             0             0         0              3   \n",
       "1946             0             0             0         0              3   \n",
       "136              0             0             0         0              3   \n",
       "446              0             0             0         0              3   \n",
       "\n",
       "      Z_Revenue  Response  \n",
       "1814         11         0  \n",
       "862          11         0  \n",
       "1946         11         1  \n",
       "136          11         0  \n",
       "446          11         0  "
      ]
     },
     "execution_count": 5,
     "metadata": {},
     "output_type": "execute_result"
    }
   ],
   "source": [
    "df.sample(5)"
   ]
  },
  {
   "cell_type": "code",
   "execution_count": 6,
   "id": "ad04f137-283a-4a0b-8083-f174ed9b30ea",
   "metadata": {},
   "outputs": [
    {
     "name": "stdout",
     "output_type": "stream",
     "text": [
      "<class 'pandas.core.frame.DataFrame'>\n",
      "RangeIndex: 2240 entries, 0 to 2239\n",
      "Data columns (total 30 columns):\n",
      " #   Column               Non-Null Count  Dtype  \n",
      "---  ------               --------------  -----  \n",
      " 0   Unnamed: 0           2240 non-null   int64  \n",
      " 1   ID                   2240 non-null   int64  \n",
      " 2   Year_Birth           2240 non-null   int64  \n",
      " 3   Education            2240 non-null   object \n",
      " 4   Marital_Status       2240 non-null   object \n",
      " 5   Income               2216 non-null   float64\n",
      " 6   Kidhome              2240 non-null   int64  \n",
      " 7   Teenhome             2240 non-null   int64  \n",
      " 8   Dt_Customer          2240 non-null   object \n",
      " 9   Recency              2240 non-null   int64  \n",
      " 10  MntCoke              2240 non-null   int64  \n",
      " 11  MntFruits            2240 non-null   int64  \n",
      " 12  MntMeatProducts      2240 non-null   int64  \n",
      " 13  MntFishProducts      2240 non-null   int64  \n",
      " 14  MntSweetProducts     2240 non-null   int64  \n",
      " 15  MntGoldProds         2240 non-null   int64  \n",
      " 16  NumDealsPurchases    2240 non-null   int64  \n",
      " 17  NumWebPurchases      2240 non-null   int64  \n",
      " 18  NumCatalogPurchases  2240 non-null   int64  \n",
      " 19  NumStorePurchases    2240 non-null   int64  \n",
      " 20  NumWebVisitsMonth    2240 non-null   int64  \n",
      " 21  AcceptedCmp3         2240 non-null   int64  \n",
      " 22  AcceptedCmp4         2240 non-null   int64  \n",
      " 23  AcceptedCmp5         2240 non-null   int64  \n",
      " 24  AcceptedCmp1         2240 non-null   int64  \n",
      " 25  AcceptedCmp2         2240 non-null   int64  \n",
      " 26  Complain             2240 non-null   int64  \n",
      " 27  Z_CostContact        2240 non-null   int64  \n",
      " 28  Z_Revenue            2240 non-null   int64  \n",
      " 29  Response             2240 non-null   int64  \n",
      "dtypes: float64(1), int64(26), object(3)\n",
      "memory usage: 525.1+ KB\n"
     ]
    }
   ],
   "source": [
    "df.info()"
   ]
  },
  {
   "cell_type": "code",
   "execution_count": 7,
   "id": "265e350e-13de-44e5-9129-eb3a9cb23ef9",
   "metadata": {},
   "outputs": [
    {
     "data": {
      "text/plain": [
       "Unnamed: 0              0\n",
       "ID                      0\n",
       "Year_Birth              0\n",
       "Education               0\n",
       "Marital_Status          0\n",
       "Income                 24\n",
       "Kidhome                 0\n",
       "Teenhome                0\n",
       "Dt_Customer             0\n",
       "Recency                 0\n",
       "MntCoke                 0\n",
       "MntFruits               0\n",
       "MntMeatProducts         0\n",
       "MntFishProducts         0\n",
       "MntSweetProducts        0\n",
       "MntGoldProds            0\n",
       "NumDealsPurchases       0\n",
       "NumWebPurchases         0\n",
       "NumCatalogPurchases     0\n",
       "NumStorePurchases       0\n",
       "NumWebVisitsMonth       0\n",
       "AcceptedCmp3            0\n",
       "AcceptedCmp4            0\n",
       "AcceptedCmp5            0\n",
       "AcceptedCmp1            0\n",
       "AcceptedCmp2            0\n",
       "Complain                0\n",
       "Z_CostContact           0\n",
       "Z_Revenue               0\n",
       "Response                0\n",
       "dtype: int64"
      ]
     },
     "execution_count": 7,
     "metadata": {},
     "output_type": "execute_result"
    }
   ],
   "source": [
    "df.isna().sum()"
   ]
  },
  {
   "cell_type": "code",
   "execution_count": 8,
   "id": "eb0bfccf-8312-4919-8837-94363f8c92f6",
   "metadata": {},
   "outputs": [
    {
     "name": "stdout",
     "output_type": "stream",
     "text": [
      "Nilai Null pada kolom Income adalah 1.07 %\n"
     ]
    }
   ],
   "source": [
    "perc_income_null = 100*(df['Income'].isna().sum()/len(df))\n",
    "\n",
    "print('Nilai Null pada kolom Income adalah', round(perc_income_null, 2), '%')"
   ]
  },
  {
   "cell_type": "markdown",
   "id": "8188540f-a5b5-4359-9b2b-dbd274f035ee",
   "metadata": {},
   "source": [
    "## HAPUS NILAI NULL"
   ]
  },
  {
   "cell_type": "code",
   "execution_count": 9,
   "id": "8682282d-b5d0-43ff-a4ba-c9d237f01c22",
   "metadata": {},
   "outputs": [],
   "source": [
    "# Hapus baris yang terdapat nilai Null pada kolom Income\n",
    "df = df.dropna(axis = 0)"
   ]
  },
  {
   "cell_type": "code",
   "execution_count": 10,
   "id": "7b31c83b-0f3c-43bd-afad-24225760e32b",
   "metadata": {},
   "outputs": [
    {
     "name": "stdout",
     "output_type": "stream",
     "text": [
      "Nilai Null pada kolom Income adalah 0.0 %\n"
     ]
    }
   ],
   "source": [
    "perc_income_null = 100*(df['Income'].isna().sum()/len(df))\n",
    "\n",
    "print('Nilai Null pada kolom Income adalah', round(perc_income_null, 2), '%')"
   ]
  },
  {
   "cell_type": "code",
   "execution_count": 11,
   "id": "095dbc00-f24c-48dd-9c86-25fa792c71bd",
   "metadata": {
    "tags": []
   },
   "outputs": [
    {
     "data": {
      "text/plain": [
       "2216"
      ]
     },
     "execution_count": 11,
     "metadata": {},
     "output_type": "execute_result"
    }
   ],
   "source": [
    "len(df)"
   ]
  },
  {
   "cell_type": "markdown",
   "id": "ce21fce3-857f-45ac-accf-17dac97bfba3",
   "metadata": {},
   "source": [
    "## MENGGANTI TIPE DATA"
   ]
  },
  {
   "cell_type": "code",
   "execution_count": 12,
   "id": "af5576ff-2a4b-486a-956d-2c075b413898",
   "metadata": {
    "tags": []
   },
   "outputs": [],
   "source": [
    "# Karena kolom di asumsikan sebagai Coce, maka tipe di ubah menjadi Object/String\n",
    "df['Unnamed: 0'] = df['Unnamed: 0'].astype('object')\n",
    "df['ID'] = df['ID'].astype('object')"
   ]
  },
  {
   "cell_type": "markdown",
   "id": "85fe9b4a-c4c8-405f-9abf-36bef9ba224b",
   "metadata": {},
   "source": [
    "## MENANGANI OUTLIERS"
   ]
  },
  {
   "cell_type": "code",
   "execution_count": 13,
   "id": "3cbdbee1-55f6-4888-9a6a-4c06587f14e4",
   "metadata": {
    "tags": []
   },
   "outputs": [],
   "source": [
    "cats = ['Unnamed: 0', 'ID', 'Education', 'Marital_Status', 'Dt_Customer']\n",
    "nums = ['Year_Birth', 'Income', 'MntCoke', 'MntFruits', 'MntMeatProducts', 'MntFishProducts', 'MntSweetProducts', 'MntGoldProds', 'NumDealsPurchases', 'NumWebPurchases', 'NumCatalogPurchases', 'NumWebVisitsMonth']"
   ]
  },
  {
   "cell_type": "code",
   "execution_count": 14,
   "id": "34a23341-dfbf-4250-9eb5-1aff293fa2db",
   "metadata": {},
   "outputs": [],
   "source": [
    "from scipy import stats"
   ]
  },
  {
   "cell_type": "code",
   "execution_count": 15,
   "id": "e1134b0d-bd0e-482e-9347-a713af930922",
   "metadata": {
    "tags": []
   },
   "outputs": [
    {
     "name": "stdout",
     "output_type": "stream",
     "text": [
      "Jumlah baris sebelum memfilter outlier: 2216\n",
      "Jumlah baris setelah memfilter outlier: 1953\n"
     ]
    }
   ],
   "source": [
    "print(f'Jumlah baris sebelum memfilter outlier: {len(df)}')\n",
    "\n",
    "filtered_entries = np.array([True] * len(df))\n",
    "\n",
    "for col in nums:\n",
    "    zscore = abs(stats.zscore(df[col])) # hitung absolute z-scorenya\n",
    "    filtered_entries = (zscore < 3) & filtered_entries # keep yang kurang dari 3 absolute z-scorenya\n",
    "    \n",
    "df = df[filtered_entries] # filter, cuma ambil yang z-scorenya dibawah 3\n",
    "\n",
    "print(f'Jumlah baris setelah memfilter outlier: {len(df)}')"
   ]
  },
  {
   "cell_type": "code",
   "execution_count": 16,
   "id": "a9a49e64-c816-4704-8f0f-be6570812480",
   "metadata": {
    "tags": []
   },
   "outputs": [
    {
     "name": "stdout",
     "output_type": "stream",
     "text": [
      "Presentase kehilangan data setelah penghapusan outliers sebesar 11.87 %\n"
     ]
    }
   ],
   "source": [
    "data_hilang = round(100*((2216-1953)/2216), 2)\n",
    "\n",
    "print('Presentase kehilangan data setelah penghapusan outliers sebesar', data_hilang, '%')"
   ]
  },
  {
   "cell_type": "markdown",
   "id": "fa60a1cd-c566-4b2f-a094-42a8950f79d8",
   "metadata": {},
   "source": [
    "## PRESENTASE PENERIMA CAMPAIGN"
   ]
  },
  {
   "cell_type": "code",
   "execution_count": 17,
   "id": "bc98996d-cf59-4946-b134-b8d2395191f0",
   "metadata": {
    "tags": []
   },
   "outputs": [
    {
     "name": "stdout",
     "output_type": "stream",
     "text": [
      "Presentase Customer yang menerima tawaran Campaign\n",
      "Campaign 1 : 4.4 %\n",
      "Campaign 2 : 1.18 %\n",
      "Campaign 3 : 7.01 %\n",
      "Campaign 4 : 7.12 %\n",
      "Campaign 5 : 5.53 %\n",
      "Campaign Terakhir : 13.36 %\n"
     ]
    }
   ],
   "source": [
    "perc_AcCmp1 = round(100*(len(df[df.AcceptedCmp1 == 1])/len(df)), 2)\n",
    "perc_AcCmp2 = round(100*(len(df[df.AcceptedCmp2 == 1])/len(df)), 2)\n",
    "perc_AcCmp3 = round(100*(len(df[df.AcceptedCmp3 == 1])/len(df)), 2)\n",
    "perc_AcCmp4 = round(100*(len(df[df.AcceptedCmp4 == 1])/len(df)), 2)\n",
    "perc_AcCmp5 = round(100*(len(df[df.AcceptedCmp5 == 1])/len(df)), 2)\n",
    "perc_Response = round(100*(len(df[df.Response == 1])/len(df)), 2)\n",
    "\n",
    "print('Presentase Customer yang menerima tawaran Campaign')\n",
    "print('Campaign 1 :', perc_AcCmp1, '%')\n",
    "print('Campaign 2 :', perc_AcCmp2, '%')\n",
    "print('Campaign 3 :', perc_AcCmp3, '%')\n",
    "print('Campaign 4 :', perc_AcCmp4, '%')\n",
    "print('Campaign 5 :', perc_AcCmp5, '%')\n",
    "print('Campaign Terakhir :', perc_Response, '%')"
   ]
  },
  {
   "cell_type": "code",
   "execution_count": 18,
   "id": "ef6edf7a-8b67-42b4-a30b-8c2e248f7fbd",
   "metadata": {
    "tags": []
   },
   "outputs": [
    {
     "name": "stdout",
     "output_type": "stream",
     "text": [
      "Presentase yang tidak memiliki anak kecil : 54.17 %\n",
      "Presentase yang tidak memiliki anak remaja : 49.46 %\n"
     ]
    }
   ],
   "source": [
    "perc_kid = round(100*(len(df[df.Kidhome == 0])/len(df)), 2)\n",
    "perc_teen = round(100*(len(df[df.Teenhome == 0])/len(df)), 2)\n",
    "\n",
    "print('Presentase yang tidak memiliki anak kecil :', perc_kid, '%')\n",
    "print('Presentase yang tidak memiliki anak remaja :', perc_teen, '%')"
   ]
  },
  {
   "cell_type": "markdown",
   "id": "41bc3de4-cacc-44ed-b680-9d53d80db323",
   "metadata": {},
   "source": [
    "## MENAMBAH KOLOM"
   ]
  },
  {
   "cell_type": "markdown",
   "id": "1143a5c1-d262-4f01-b734-b3269efcfc5f",
   "metadata": {},
   "source": [
    "### MENAMBAHKAN KOLOM CONVERSION RATES "
   ]
  },
  {
   "cell_type": "code",
   "execution_count": 86,
   "id": "74ded659-cd4b-4e4d-a9dd-eda043140d28",
   "metadata": {
    "tags": []
   },
   "outputs": [],
   "source": [
    "df['Conversion_Rate'] = df['Response'] / df['NumWebVisitsMonth']"
   ]
  },
  {
   "cell_type": "markdown",
   "id": "9635a3b5-60b4-4f82-893e-a6cdfb5e0399",
   "metadata": {},
   "source": [
    "### MENAMBAHKAN KOLOM JUMLAH ANAK"
   ]
  },
  {
   "cell_type": "code",
   "execution_count": 91,
   "id": "4a5b8c07-87ab-46be-aed7-c5913c079b5e",
   "metadata": {
    "tags": []
   },
   "outputs": [],
   "source": [
    "df['Jumlah_Anak'] = df['Kidhome'] + df['Teenhome']"
   ]
  },
  {
   "cell_type": "markdown",
   "id": "1e4a5fbe-5d13-4d57-beb5-adaebff1a271",
   "metadata": {},
   "source": [
    "### MENAMBAHKAN KOLOM UMUR PADA SAAT REGISTRASI"
   ]
  },
  {
   "cell_type": "code",
   "execution_count": 19,
   "id": "c040ed17-cc4d-4747-8d2d-b452b9dee1f7",
   "metadata": {},
   "outputs": [],
   "source": [
    "df['Registration_Year'] = df['Dt_Customer'].str[-4:]"
   ]
  },
  {
   "cell_type": "code",
   "execution_count": 21,
   "id": "28499648-a35a-4e1f-b507-da5edc7906a5",
   "metadata": {},
   "outputs": [],
   "source": [
    "df['Registration_Year'] = df['Registration_Year'].astype(int)"
   ]
  },
  {
   "cell_type": "code",
   "execution_count": 22,
   "id": "c9cf4653-3146-4e53-b326-d30c9fed931c",
   "metadata": {},
   "outputs": [],
   "source": [
    "df['Umur_Saat_Registrasi'] = df['Registration_Year'] - df['Year_Birth']"
   ]
  },
  {
   "cell_type": "markdown",
   "id": "06724d0c-0ccb-4abe-b2e5-e490264e5ec1",
   "metadata": {},
   "source": [
    "### MENAMBAHKAN KOLOM KLASIFIKASI UMUR"
   ]
  },
  {
   "cell_type": "code",
   "execution_count": 24,
   "id": "1daeb49d-dcd0-493b-8e54-6f3b086ebd3f",
   "metadata": {
    "tags": []
   },
   "outputs": [],
   "source": [
    "df['klasifikasi_umur'] = df['Umur_Saat_Registrasi'].apply(lambda x: 'Remaja' if x < 26 else ('Dewasa' if x < 46 else 'Lansia'))"
   ]
  },
  {
   "cell_type": "markdown",
   "id": "32932886-b565-4458-8c52-e45cfbb61026",
   "metadata": {},
   "source": [
    "### MENAMBAHKAN KOLOM TOTAL PEMBELIAN"
   ]
  },
  {
   "cell_type": "code",
   "execution_count": 93,
   "id": "212f1a28-4865-4425-9f84-77ae1c758cbc",
   "metadata": {
    "tags": []
   },
   "outputs": [],
   "source": [
    "df['Total_Pembelian'] = df['NumDealsPurchases'] + df['NumWebPurchases'] + df['NumCatalogPurchases'] + df['NumStorePurchases']"
   ]
  },
  {
   "cell_type": "markdown",
   "id": "50acdfb8-af1f-404c-bf2e-66a517c07eed",
   "metadata": {},
   "source": [
    "### MENAMBAHKAN KOLOM TOTAL CAMPAIGN DIAMBIL"
   ]
  },
  {
   "cell_type": "code",
   "execution_count": 95,
   "id": "ab2c15d8-1657-4111-881e-1031a7d5b1b7",
   "metadata": {
    "tags": []
   },
   "outputs": [],
   "source": [
    "df['Total_Campaign'] = df['AcceptedCmp1'] + df['AcceptedCmp2'] + df['AcceptedCmp3'] + df['AcceptedCmp4'] + df['AcceptedCmp5']"
   ]
  },
  {
   "cell_type": "markdown",
   "id": "a1b7fa7b-e618-4bfe-88ed-1294bb04f2fb",
   "metadata": {},
   "source": [
    "### MENAMBAHKAN KOLOM TOTAL PENGELUARAN"
   ]
  },
  {
   "cell_type": "code",
   "execution_count": 97,
   "id": "0d4a69b2-c72e-4dfe-b5b8-0d76d12f3032",
   "metadata": {
    "tags": []
   },
   "outputs": [],
   "source": [
    "df['Total_Pengeluaran'] = df['MntCoke'] + df['MntFruits'] + df['MntMeatProducts'] + df['MntFishProducts'] + df['MntSweetProducts'] + df['MntGoldProds']"
   ]
  },
  {
   "cell_type": "code",
   "execution_count": 98,
   "id": "777b4cf5-cb9a-40fc-85cc-4033a4acf8f9",
   "metadata": {
    "tags": []
   },
   "outputs": [
    {
     "data": {
      "text/html": [
       "<div>\n",
       "<style scoped>\n",
       "    .dataframe tbody tr th:only-of-type {\n",
       "        vertical-align: middle;\n",
       "    }\n",
       "\n",
       "    .dataframe tbody tr th {\n",
       "        vertical-align: top;\n",
       "    }\n",
       "\n",
       "    .dataframe thead th {\n",
       "        text-align: right;\n",
       "    }\n",
       "</style>\n",
       "<table border=\"1\" class=\"dataframe\">\n",
       "  <thead>\n",
       "    <tr style=\"text-align: right;\">\n",
       "      <th></th>\n",
       "      <th>Unnamed: 0</th>\n",
       "      <th>ID</th>\n",
       "      <th>Year_Birth</th>\n",
       "      <th>Education</th>\n",
       "      <th>Marital_Status</th>\n",
       "      <th>Income</th>\n",
       "      <th>Kidhome</th>\n",
       "      <th>Teenhome</th>\n",
       "      <th>Dt_Customer</th>\n",
       "      <th>Recency</th>\n",
       "      <th>MntCoke</th>\n",
       "      <th>MntFruits</th>\n",
       "      <th>MntMeatProducts</th>\n",
       "      <th>MntFishProducts</th>\n",
       "      <th>MntSweetProducts</th>\n",
       "      <th>MntGoldProds</th>\n",
       "      <th>NumDealsPurchases</th>\n",
       "      <th>NumWebPurchases</th>\n",
       "      <th>NumCatalogPurchases</th>\n",
       "      <th>NumStorePurchases</th>\n",
       "      <th>NumWebVisitsMonth</th>\n",
       "      <th>AcceptedCmp3</th>\n",
       "      <th>AcceptedCmp4</th>\n",
       "      <th>AcceptedCmp5</th>\n",
       "      <th>AcceptedCmp1</th>\n",
       "      <th>AcceptedCmp2</th>\n",
       "      <th>Complain</th>\n",
       "      <th>Z_CostContact</th>\n",
       "      <th>Z_Revenue</th>\n",
       "      <th>Response</th>\n",
       "      <th>Registration_Year</th>\n",
       "      <th>Umur_Saat_Registrasi</th>\n",
       "      <th>klasifikasi_umur</th>\n",
       "      <th>Conversion_Rate</th>\n",
       "      <th>Jumlah_Anak</th>\n",
       "      <th>Total_Pembelian</th>\n",
       "      <th>Total_Campaign</th>\n",
       "      <th>Total_Pengeluaran</th>\n",
       "    </tr>\n",
       "  </thead>\n",
       "  <tbody>\n",
       "    <tr>\n",
       "      <th>1655</th>\n",
       "      <td>1655</td>\n",
       "      <td>1834</td>\n",
       "      <td>1978</td>\n",
       "      <td>S2</td>\n",
       "      <td>Lajang</td>\n",
       "      <td>35544000.0</td>\n",
       "      <td>1</td>\n",
       "      <td>0</td>\n",
       "      <td>08-03-2014</td>\n",
       "      <td>77</td>\n",
       "      <td>30000</td>\n",
       "      <td>5000</td>\n",
       "      <td>23000</td>\n",
       "      <td>4000</td>\n",
       "      <td>1000</td>\n",
       "      <td>4000</td>\n",
       "      <td>1</td>\n",
       "      <td>2</td>\n",
       "      <td>0</td>\n",
       "      <td>3</td>\n",
       "      <td>7</td>\n",
       "      <td>0</td>\n",
       "      <td>0</td>\n",
       "      <td>0</td>\n",
       "      <td>0</td>\n",
       "      <td>0</td>\n",
       "      <td>0</td>\n",
       "      <td>3</td>\n",
       "      <td>11</td>\n",
       "      <td>0</td>\n",
       "      <td>2014</td>\n",
       "      <td>36</td>\n",
       "      <td>Dewasa</td>\n",
       "      <td>0.0</td>\n",
       "      <td>1</td>\n",
       "      <td>6</td>\n",
       "      <td>0</td>\n",
       "      <td>67000</td>\n",
       "    </tr>\n",
       "    <tr>\n",
       "      <th>1585</th>\n",
       "      <td>1585</td>\n",
       "      <td>1626</td>\n",
       "      <td>1973</td>\n",
       "      <td>S3</td>\n",
       "      <td>Cerai</td>\n",
       "      <td>35860000.0</td>\n",
       "      <td>1</td>\n",
       "      <td>1</td>\n",
       "      <td>19-05-2014</td>\n",
       "      <td>37</td>\n",
       "      <td>15000</td>\n",
       "      <td>0</td>\n",
       "      <td>8000</td>\n",
       "      <td>4000</td>\n",
       "      <td>2000</td>\n",
       "      <td>20000</td>\n",
       "      <td>2</td>\n",
       "      <td>1</td>\n",
       "      <td>1</td>\n",
       "      <td>2</td>\n",
       "      <td>5</td>\n",
       "      <td>1</td>\n",
       "      <td>0</td>\n",
       "      <td>0</td>\n",
       "      <td>0</td>\n",
       "      <td>0</td>\n",
       "      <td>0</td>\n",
       "      <td>3</td>\n",
       "      <td>11</td>\n",
       "      <td>1</td>\n",
       "      <td>2014</td>\n",
       "      <td>41</td>\n",
       "      <td>Dewasa</td>\n",
       "      <td>0.2</td>\n",
       "      <td>2</td>\n",
       "      <td>6</td>\n",
       "      <td>1</td>\n",
       "      <td>49000</td>\n",
       "    </tr>\n",
       "    <tr>\n",
       "      <th>1825</th>\n",
       "      <td>1825</td>\n",
       "      <td>78</td>\n",
       "      <td>1969</td>\n",
       "      <td>S1</td>\n",
       "      <td>Menikah</td>\n",
       "      <td>25293000.0</td>\n",
       "      <td>1</td>\n",
       "      <td>0</td>\n",
       "      <td>15-09-2013</td>\n",
       "      <td>51</td>\n",
       "      <td>15000</td>\n",
       "      <td>0</td>\n",
       "      <td>11000</td>\n",
       "      <td>0</td>\n",
       "      <td>2000</td>\n",
       "      <td>9000</td>\n",
       "      <td>1</td>\n",
       "      <td>1</td>\n",
       "      <td>1</td>\n",
       "      <td>2</td>\n",
       "      <td>8</td>\n",
       "      <td>0</td>\n",
       "      <td>0</td>\n",
       "      <td>0</td>\n",
       "      <td>0</td>\n",
       "      <td>0</td>\n",
       "      <td>0</td>\n",
       "      <td>3</td>\n",
       "      <td>11</td>\n",
       "      <td>0</td>\n",
       "      <td>2013</td>\n",
       "      <td>44</td>\n",
       "      <td>Dewasa</td>\n",
       "      <td>0.0</td>\n",
       "      <td>1</td>\n",
       "      <td>5</td>\n",
       "      <td>0</td>\n",
       "      <td>37000</td>\n",
       "    </tr>\n",
       "    <tr>\n",
       "      <th>72</th>\n",
       "      <td>72</td>\n",
       "      <td>6312</td>\n",
       "      <td>1959</td>\n",
       "      <td>S1</td>\n",
       "      <td>Menikah</td>\n",
       "      <td>65031000.0</td>\n",
       "      <td>0</td>\n",
       "      <td>1</td>\n",
       "      <td>17-03-2013</td>\n",
       "      <td>29</td>\n",
       "      <td>258000</td>\n",
       "      <td>107000</td>\n",
       "      <td>291000</td>\n",
       "      <td>84000</td>\n",
       "      <td>37000</td>\n",
       "      <td>86000</td>\n",
       "      <td>4</td>\n",
       "      <td>10</td>\n",
       "      <td>3</td>\n",
       "      <td>13</td>\n",
       "      <td>7</td>\n",
       "      <td>0</td>\n",
       "      <td>0</td>\n",
       "      <td>0</td>\n",
       "      <td>0</td>\n",
       "      <td>0</td>\n",
       "      <td>0</td>\n",
       "      <td>3</td>\n",
       "      <td>11</td>\n",
       "      <td>0</td>\n",
       "      <td>2013</td>\n",
       "      <td>54</td>\n",
       "      <td>Lansia</td>\n",
       "      <td>0.0</td>\n",
       "      <td>1</td>\n",
       "      <td>30</td>\n",
       "      <td>0</td>\n",
       "      <td>863000</td>\n",
       "    </tr>\n",
       "    <tr>\n",
       "      <th>1642</th>\n",
       "      <td>1642</td>\n",
       "      <td>6575</td>\n",
       "      <td>1981</td>\n",
       "      <td>S1</td>\n",
       "      <td>Bertunangan</td>\n",
       "      <td>56386000.0</td>\n",
       "      <td>1</td>\n",
       "      <td>1</td>\n",
       "      <td>27-10-2012</td>\n",
       "      <td>51</td>\n",
       "      <td>230000</td>\n",
       "      <td>48000</td>\n",
       "      <td>214000</td>\n",
       "      <td>13000</td>\n",
       "      <td>32000</td>\n",
       "      <td>75000</td>\n",
       "      <td>8</td>\n",
       "      <td>9</td>\n",
       "      <td>1</td>\n",
       "      <td>7</td>\n",
       "      <td>9</td>\n",
       "      <td>0</td>\n",
       "      <td>0</td>\n",
       "      <td>0</td>\n",
       "      <td>0</td>\n",
       "      <td>0</td>\n",
       "      <td>0</td>\n",
       "      <td>3</td>\n",
       "      <td>11</td>\n",
       "      <td>0</td>\n",
       "      <td>2012</td>\n",
       "      <td>31</td>\n",
       "      <td>Dewasa</td>\n",
       "      <td>0.0</td>\n",
       "      <td>2</td>\n",
       "      <td>25</td>\n",
       "      <td>0</td>\n",
       "      <td>612000</td>\n",
       "    </tr>\n",
       "  </tbody>\n",
       "</table>\n",
       "</div>"
      ],
      "text/plain": [
       "     Unnamed: 0    ID  Year_Birth Education Marital_Status      Income  \\\n",
       "1655       1655  1834        1978        S2         Lajang  35544000.0   \n",
       "1585       1585  1626        1973        S3          Cerai  35860000.0   \n",
       "1825       1825    78        1969        S1        Menikah  25293000.0   \n",
       "72           72  6312        1959        S1        Menikah  65031000.0   \n",
       "1642       1642  6575        1981        S1    Bertunangan  56386000.0   \n",
       "\n",
       "      Kidhome  Teenhome Dt_Customer  Recency  MntCoke  MntFruits  \\\n",
       "1655        1         0  08-03-2014       77    30000       5000   \n",
       "1585        1         1  19-05-2014       37    15000          0   \n",
       "1825        1         0  15-09-2013       51    15000          0   \n",
       "72          0         1  17-03-2013       29   258000     107000   \n",
       "1642        1         1  27-10-2012       51   230000      48000   \n",
       "\n",
       "      MntMeatProducts  MntFishProducts  MntSweetProducts  MntGoldProds  \\\n",
       "1655            23000             4000              1000          4000   \n",
       "1585             8000             4000              2000         20000   \n",
       "1825            11000                0              2000          9000   \n",
       "72             291000            84000             37000         86000   \n",
       "1642           214000            13000             32000         75000   \n",
       "\n",
       "      NumDealsPurchases  NumWebPurchases  NumCatalogPurchases  \\\n",
       "1655                  1                2                    0   \n",
       "1585                  2                1                    1   \n",
       "1825                  1                1                    1   \n",
       "72                    4               10                    3   \n",
       "1642                  8                9                    1   \n",
       "\n",
       "      NumStorePurchases  NumWebVisitsMonth  AcceptedCmp3  AcceptedCmp4  \\\n",
       "1655                  3                  7             0             0   \n",
       "1585                  2                  5             1             0   \n",
       "1825                  2                  8             0             0   \n",
       "72                   13                  7             0             0   \n",
       "1642                  7                  9             0             0   \n",
       "\n",
       "      AcceptedCmp5  AcceptedCmp1  AcceptedCmp2  Complain  Z_CostContact  \\\n",
       "1655             0             0             0         0              3   \n",
       "1585             0             0             0         0              3   \n",
       "1825             0             0             0         0              3   \n",
       "72               0             0             0         0              3   \n",
       "1642             0             0             0         0              3   \n",
       "\n",
       "      Z_Revenue  Response  Registration_Year  Umur_Saat_Registrasi  \\\n",
       "1655         11         0               2014                    36   \n",
       "1585         11         1               2014                    41   \n",
       "1825         11         0               2013                    44   \n",
       "72           11         0               2013                    54   \n",
       "1642         11         0               2012                    31   \n",
       "\n",
       "     klasifikasi_umur  Conversion_Rate  Jumlah_Anak  Total_Pembelian  \\\n",
       "1655           Dewasa              0.0            1                6   \n",
       "1585           Dewasa              0.2            2                6   \n",
       "1825           Dewasa              0.0            1                5   \n",
       "72             Lansia              0.0            1               30   \n",
       "1642           Dewasa              0.0            2               25   \n",
       "\n",
       "      Total_Campaign  Total_Pengeluaran  \n",
       "1655               0              67000  \n",
       "1585               1              49000  \n",
       "1825               0              37000  \n",
       "72                 0             863000  \n",
       "1642               0             612000  "
      ]
     },
     "execution_count": 98,
     "metadata": {},
     "output_type": "execute_result"
    }
   ],
   "source": [
    "df.sample(5)"
   ]
  },
  {
   "cell_type": "code",
   "execution_count": null,
   "id": "71c2bf88-61f2-402d-b1f3-2361f86ebc28",
   "metadata": {},
   "outputs": [],
   "source": [
    "df.to_csv('marketing_campaign_data_lengkap.csv', index = False)"
   ]
  }
 ],
 "metadata": {
  "kernelspec": {
   "display_name": "Python 3 (ipykernel)",
   "language": "python",
   "name": "python3"
  },
  "language_info": {
   "codemirror_mode": {
    "name": "ipython",
    "version": 3
   },
   "file_extension": ".py",
   "mimetype": "text/x-python",
   "name": "python",
   "nbconvert_exporter": "python",
   "pygments_lexer": "ipython3",
   "version": "3.11.5"
  }
 },
 "nbformat": 4,
 "nbformat_minor": 5
}
